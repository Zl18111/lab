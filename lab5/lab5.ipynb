{
 "cells": [
  {
   "cell_type": "markdown",
   "metadata": {
    "id": "DFVR2fOVkHjf",
    "pycharm": {
     "name": "#%% md\n"
    }
   },
   "source": []
  },
  {
   "cell_type": "code",
   "execution_count": 1,
   "metadata": {
    "executionInfo": {
     "elapsed": 4,
     "status": "ok",
     "timestamp": 1621696246859,
     "user": {
      "displayName": "zhibo zhang",
      "photoUrl": "https://lh3.googleusercontent.com/a-/AOh14Gh8_y4pfqR32K5ts_cWnnNmRU9hz13PqIdespQy=s64",
      "userId": "09431813280733956316"
     },
     "user_tz": -180
    },
    "id": "V8KnP9RNl4iG",
    "pycharm": {
     "name": "#%%\n"
    }
   },
   "outputs": [],
   "source": [
    "text='В 1876 году Чехов-старший разорился, и вся семья уехала в Москву. Шестнадцатилетний Антон, завершавший обучение в гимназии, остался один и занимался репетиторством, чтобы заработать себе на жизнь. В эти годы он много читал, писал очерки для гимназических журналов, а журнал «Заика» с короткими зарисовками из таганрогской жизни отправлял братьям в Москву. Тогда же Чехов написал первую пьесу — «Безотцовщина» и водевиль «Недаром курица пела».В 1879 году Чехов окончил гимназию и уехал из Таганрога в Москву. Там он начал заботиться о семье, обеспечивал близких на скромный доход от литературных публикаций. Дебют Чехова в печати состоялся в декабре того же года: в журнале «Стрекоза» были опубликованы рассказ «Письмо к ученому соседу» и юмореска «Что чаще всего встречается в романах, повестях и т. п.».В этом же году Чехов поступил на медицинский факультет Московского университета имени И.М. Сеченова. Студент-медик жил у брата Ивана в подмосковном Воскресенске (сегодня город Истра). Там же в 1881 году он познакомился с заведующим Воскресенской земской больницей, доктором Павлом Архангельским. Еще во время учебы Чехов принимал больных, здесь же прошел практику, а после окончания университета остался работать уездным врачом. Летом 1884 года он перешел на должность заведующего звенигородской больницей.'"
   ]
  },
  {
   "cell_type": "markdown",
   "metadata": {
    "id": "9wxuOizdoLwY",
    "pycharm": {
     "name": "#%% md\n"
    }
   },
   "source": [
    "# Задача токенизации"
   ]
  },
  {
   "cell_type": "code",
   "execution_count": 2,
   "metadata": {
    "colab": {
     "base_uri": "https://localhost:8080/"
    },
    "executionInfo": {
     "elapsed": 4239,
     "status": "ok",
     "timestamp": 1621696410614,
     "user": {
      "displayName": "zhibo zhang",
      "photoUrl": "https://lh3.googleusercontent.com/a-/AOh14Gh8_y4pfqR32K5ts_cWnnNmRU9hz13PqIdespQy=s64",
      "userId": "09431813280733956316"
     },
     "user_tz": -180
    },
    "id": "zk4iTqbboTaS",
    "outputId": "553a3395-fa59-40b2-9fb7-427a3c543b31",
    "pycharm": {
     "name": "#%%\n"
    }
   },
   "outputs": [
    {
     "name": "stdout",
     "output_type": "stream",
     "text": [
      "Requirement already satisfied: razdel in c:\\zl\\work\\anaconda\\anaconda\\lib\\site-packages (0.5.0)\n"
     ]
    },
    {
     "data": {
      "text/plain": [
       "[Substring(0, 1, 'В'),\n",
       " Substring(2, 6, '1876'),\n",
       " Substring(7, 11, 'году'),\n",
       " Substring(12, 25, 'Чехов-старший'),\n",
       " Substring(26, 35, 'разорился'),\n",
       " Substring(35, 36, ','),\n",
       " Substring(37, 38, 'и'),\n",
       " Substring(39, 42, 'вся'),\n",
       " Substring(43, 48, 'семья'),\n",
       " Substring(49, 55, 'уехала'),\n",
       " Substring(56, 57, 'в'),\n",
       " Substring(58, 64, 'Москву'),\n",
       " Substring(64, 65, '.'),\n",
       " Substring(66, 83, 'Шестнадцатилетний'),\n",
       " Substring(84, 89, 'Антон'),\n",
       " Substring(89, 90, ','),\n",
       " Substring(91, 102, 'завершавший'),\n",
       " Substring(103, 111, 'обучение'),\n",
       " Substring(112, 113, 'в'),\n",
       " Substring(114, 122, 'гимназии'),\n",
       " Substring(122, 123, ','),\n",
       " Substring(124, 131, 'остался'),\n",
       " Substring(132, 136, 'один'),\n",
       " Substring(137, 138, 'и'),\n",
       " Substring(139, 148, 'занимался'),\n",
       " Substring(149, 163, 'репетиторством'),\n",
       " Substring(163, 164, ','),\n",
       " Substring(165, 170, 'чтобы'),\n",
       " Substring(171, 181, 'заработать'),\n",
       " Substring(182, 186, 'себе'),\n",
       " Substring(187, 189, 'на'),\n",
       " Substring(190, 195, 'жизнь'),\n",
       " Substring(195, 196, '.'),\n",
       " Substring(197, 198, 'В'),\n",
       " Substring(199, 202, 'эти'),\n",
       " Substring(203, 207, 'годы'),\n",
       " Substring(208, 210, 'он'),\n",
       " Substring(211, 216, 'много'),\n",
       " Substring(217, 222, 'читал'),\n",
       " Substring(222, 223, ','),\n",
       " Substring(224, 229, 'писал'),\n",
       " Substring(230, 236, 'очерки'),\n",
       " Substring(237, 240, 'для'),\n",
       " Substring(241, 254, 'гимназических'),\n",
       " Substring(255, 263, 'журналов'),\n",
       " Substring(263, 264, ','),\n",
       " Substring(265, 266, 'а'),\n",
       " Substring(267, 273, 'журнал'),\n",
       " Substring(274, 275, '«'),\n",
       " Substring(275, 280, 'Заика'),\n",
       " Substring(280, 281, '»'),\n",
       " Substring(282, 283, 'с'),\n",
       " Substring(284, 293, 'короткими'),\n",
       " Substring(294, 305, 'зарисовками'),\n",
       " Substring(306, 308, 'из'),\n",
       " Substring(309, 321, 'таганрогской'),\n",
       " Substring(322, 327, 'жизни'),\n",
       " Substring(328, 337, 'отправлял'),\n",
       " Substring(338, 345, 'братьям'),\n",
       " Substring(346, 347, 'в'),\n",
       " Substring(348, 354, 'Москву'),\n",
       " Substring(354, 355, '.'),\n",
       " Substring(356, 361, 'Тогда'),\n",
       " Substring(362, 364, 'же'),\n",
       " Substring(365, 370, 'Чехов'),\n",
       " Substring(371, 378, 'написал'),\n",
       " Substring(379, 385, 'первую'),\n",
       " Substring(386, 391, 'пьесу'),\n",
       " Substring(392, 393, '—'),\n",
       " Substring(394, 395, '«'),\n",
       " Substring(395, 407, 'Безотцовщина'),\n",
       " Substring(407, 408, '»'),\n",
       " Substring(409, 410, 'и'),\n",
       " Substring(411, 419, 'водевиль'),\n",
       " Substring(420, 421, '«'),\n",
       " Substring(421, 428, 'Недаром'),\n",
       " Substring(429, 435, 'курица'),\n",
       " Substring(436, 440, 'пела'),\n",
       " Substring(440, 441, '»'),\n",
       " Substring(441, 442, '.'),\n",
       " Substring(442, 443, 'В'),\n",
       " Substring(444, 448, '1879'),\n",
       " Substring(449, 453, 'году'),\n",
       " Substring(454, 459, 'Чехов'),\n",
       " Substring(460, 467, 'окончил'),\n",
       " Substring(468, 476, 'гимназию'),\n",
       " Substring(477, 478, 'и'),\n",
       " Substring(479, 484, 'уехал'),\n",
       " Substring(485, 487, 'из'),\n",
       " Substring(488, 497, 'Таганрога'),\n",
       " Substring(498, 499, 'в'),\n",
       " Substring(500, 506, 'Москву'),\n",
       " Substring(506, 507, '.'),\n",
       " Substring(508, 511, 'Там'),\n",
       " Substring(512, 514, 'он'),\n",
       " Substring(515, 520, 'начал'),\n",
       " Substring(521, 531, 'заботиться'),\n",
       " Substring(532, 533, 'о'),\n",
       " Substring(534, 539, 'семье'),\n",
       " Substring(539, 540, ','),\n",
       " Substring(541, 552, 'обеспечивал'),\n",
       " Substring(553, 560, 'близких'),\n",
       " Substring(561, 563, 'на'),\n",
       " Substring(564, 572, 'скромный'),\n",
       " Substring(573, 578, 'доход'),\n",
       " Substring(579, 581, 'от'),\n",
       " Substring(582, 594, 'литературных'),\n",
       " Substring(595, 605, 'публикаций'),\n",
       " Substring(605, 606, '.'),\n",
       " Substring(607, 612, 'Дебют'),\n",
       " Substring(613, 619, 'Чехова'),\n",
       " Substring(620, 621, 'в'),\n",
       " Substring(622, 628, 'печати'),\n",
       " Substring(629, 638, 'состоялся'),\n",
       " Substring(639, 640, 'в'),\n",
       " Substring(641, 648, 'декабре'),\n",
       " Substring(649, 653, 'того'),\n",
       " Substring(654, 656, 'же'),\n",
       " Substring(657, 661, 'года'),\n",
       " Substring(661, 662, ':'),\n",
       " Substring(663, 664, 'в'),\n",
       " Substring(665, 672, 'журнале'),\n",
       " Substring(673, 674, '«'),\n",
       " Substring(674, 682, 'Стрекоза'),\n",
       " Substring(682, 683, '»'),\n",
       " Substring(684, 688, 'были'),\n",
       " Substring(689, 701, 'опубликованы'),\n",
       " Substring(702, 709, 'рассказ'),\n",
       " Substring(710, 711, '«'),\n",
       " Substring(711, 717, 'Письмо'),\n",
       " Substring(718, 719, 'к'),\n",
       " Substring(720, 727, 'ученому'),\n",
       " Substring(728, 734, 'соседу'),\n",
       " Substring(734, 735, '»'),\n",
       " Substring(736, 737, 'и'),\n",
       " Substring(738, 746, 'юмореска'),\n",
       " Substring(747, 748, '«'),\n",
       " Substring(748, 751, 'Что'),\n",
       " Substring(752, 756, 'чаще'),\n",
       " Substring(757, 762, 'всего'),\n",
       " Substring(763, 774, 'встречается'),\n",
       " Substring(775, 776, 'в'),\n",
       " Substring(777, 784, 'романах'),\n",
       " Substring(784, 785, ','),\n",
       " Substring(786, 794, 'повестях'),\n",
       " Substring(795, 796, 'и'),\n",
       " Substring(797, 798, 'т'),\n",
       " Substring(798, 799, '.'),\n",
       " Substring(800, 801, 'п'),\n",
       " Substring(801, 802, '.'),\n",
       " Substring(802, 803, '»'),\n",
       " Substring(803, 804, '.'),\n",
       " Substring(804, 805, 'В'),\n",
       " Substring(806, 810, 'этом'),\n",
       " Substring(811, 813, 'же'),\n",
       " Substring(814, 818, 'году'),\n",
       " Substring(819, 824, 'Чехов'),\n",
       " Substring(825, 833, 'поступил'),\n",
       " Substring(834, 836, 'на'),\n",
       " Substring(837, 848, 'медицинский'),\n",
       " Substring(849, 858, 'факультет'),\n",
       " Substring(859, 870, 'Московского'),\n",
       " Substring(871, 883, 'университета'),\n",
       " Substring(884, 889, 'имени'),\n",
       " Substring(890, 891, 'И'),\n",
       " Substring(891, 892, '.'),\n",
       " Substring(892, 893, 'М'),\n",
       " Substring(893, 894, '.'),\n",
       " Substring(895, 903, 'Сеченова'),\n",
       " Substring(903, 904, '.'),\n",
       " Substring(905, 918, 'Студент-медик'),\n",
       " Substring(919, 922, 'жил'),\n",
       " Substring(923, 924, 'у'),\n",
       " Substring(925, 930, 'брата'),\n",
       " Substring(931, 936, 'Ивана'),\n",
       " Substring(937, 938, 'в'),\n",
       " Substring(939, 951, 'подмосковном'),\n",
       " Substring(952, 964, 'Воскресенске'),\n",
       " Substring(965, 966, '('),\n",
       " Substring(966, 973, 'сегодня'),\n",
       " Substring(974, 979, 'город'),\n",
       " Substring(980, 985, 'Истра'),\n",
       " Substring(985, 986, ')'),\n",
       " Substring(986, 987, '.'),\n",
       " Substring(988, 991, 'Там'),\n",
       " Substring(992, 994, 'же'),\n",
       " Substring(995, 996, 'в'),\n",
       " Substring(997, 1001, '1881'),\n",
       " Substring(1002, 1006, 'году'),\n",
       " Substring(1007, 1009, 'он'),\n",
       " Substring(1010, 1022, 'познакомился'),\n",
       " Substring(1023, 1024, 'с'),\n",
       " Substring(1025, 1035, 'заведующим'),\n",
       " Substring(1036, 1049, 'Воскресенской'),\n",
       " Substring(1050, 1057, 'земской'),\n",
       " Substring(1058, 1067, 'больницей'),\n",
       " Substring(1067, 1068, ','),\n",
       " Substring(1069, 1077, 'доктором'),\n",
       " Substring(1078, 1084, 'Павлом'),\n",
       " Substring(1085, 1098, 'Архангельским'),\n",
       " Substring(1098, 1099, '.'),\n",
       " Substring(1100, 1103, 'Еще'),\n",
       " Substring(1104, 1106, 'во'),\n",
       " Substring(1107, 1112, 'время'),\n",
       " Substring(1113, 1118, 'учебы'),\n",
       " Substring(1119, 1124, 'Чехов'),\n",
       " Substring(1125, 1133, 'принимал'),\n",
       " Substring(1134, 1141, 'больных'),\n",
       " Substring(1141, 1142, ','),\n",
       " Substring(1143, 1148, 'здесь'),\n",
       " Substring(1149, 1151, 'же'),\n",
       " Substring(1152, 1158, 'прошел'),\n",
       " Substring(1159, 1167, 'практику'),\n",
       " Substring(1167, 1168, ','),\n",
       " Substring(1169, 1170, 'а'),\n",
       " Substring(1171, 1176, 'после'),\n",
       " Substring(1177, 1186, 'окончания'),\n",
       " Substring(1187, 1199, 'университета'),\n",
       " Substring(1200, 1207, 'остался'),\n",
       " Substring(1208, 1216, 'работать'),\n",
       " Substring(1217, 1224, 'уездным'),\n",
       " Substring(1225, 1231, 'врачом'),\n",
       " Substring(1231, 1232, '.'),\n",
       " Substring(1233, 1238, 'Летом'),\n",
       " Substring(1239, 1243, '1884'),\n",
       " Substring(1244, 1248, 'года'),\n",
       " Substring(1249, 1251, 'он'),\n",
       " Substring(1252, 1259, 'перешел'),\n",
       " Substring(1260, 1262, 'на'),\n",
       " Substring(1263, 1272, 'должность'),\n",
       " Substring(1273, 1284, 'заведующего'),\n",
       " Substring(1285, 1299, 'звенигородской'),\n",
       " Substring(1300, 1309, 'больницей'),\n",
       " Substring(1309, 1310, '.')]"
      ]
     },
     "execution_count": 2,
     "metadata": {},
     "output_type": "execute_result"
    }
   ],
   "source": [
    "!pip install razdel\n",
    "from razdel import tokenize, sentenize\n",
    "n_tok_text = list(tokenize(text))\n",
    "n_tok_text"
   ]
  },
  {
   "cell_type": "code",
   "execution_count": 3,
   "metadata": {
    "colab": {
     "base_uri": "https://localhost:8080/"
    },
    "executionInfo": {
     "elapsed": 625,
     "status": "ok",
     "timestamp": 1621696445015,
     "user": {
      "displayName": "zhibo zhang",
      "photoUrl": "https://lh3.googleusercontent.com/a-/AOh14Gh8_y4pfqR32K5ts_cWnnNmRU9hz13PqIdespQy=s64",
      "userId": "09431813280733956316"
     },
     "user_tz": -180
    },
    "id": "VHowWv0VolL_",
    "outputId": "b838de87-3c60-447c-cf16-f2b67d933cd9",
    "pycharm": {
     "name": "#%%\n"
    }
   },
   "outputs": [
    {
     "data": {
      "text/plain": [
       "['В',\n",
       " '1876',\n",
       " 'году',\n",
       " 'Чехов-старший',\n",
       " 'разорился',\n",
       " ',',\n",
       " 'и',\n",
       " 'вся',\n",
       " 'семья',\n",
       " 'уехала',\n",
       " 'в',\n",
       " 'Москву',\n",
       " '.',\n",
       " 'Шестнадцатилетний',\n",
       " 'Антон',\n",
       " ',',\n",
       " 'завершавший',\n",
       " 'обучение',\n",
       " 'в',\n",
       " 'гимназии',\n",
       " ',',\n",
       " 'остался',\n",
       " 'один',\n",
       " 'и',\n",
       " 'занимался',\n",
       " 'репетиторством',\n",
       " ',',\n",
       " 'чтобы',\n",
       " 'заработать',\n",
       " 'себе',\n",
       " 'на',\n",
       " 'жизнь',\n",
       " '.',\n",
       " 'В',\n",
       " 'эти',\n",
       " 'годы',\n",
       " 'он',\n",
       " 'много',\n",
       " 'читал',\n",
       " ',',\n",
       " 'писал',\n",
       " 'очерки',\n",
       " 'для',\n",
       " 'гимназических',\n",
       " 'журналов',\n",
       " ',',\n",
       " 'а',\n",
       " 'журнал',\n",
       " '«',\n",
       " 'Заика',\n",
       " '»',\n",
       " 'с',\n",
       " 'короткими',\n",
       " 'зарисовками',\n",
       " 'из',\n",
       " 'таганрогской',\n",
       " 'жизни',\n",
       " 'отправлял',\n",
       " 'братьям',\n",
       " 'в',\n",
       " 'Москву',\n",
       " '.',\n",
       " 'Тогда',\n",
       " 'же',\n",
       " 'Чехов',\n",
       " 'написал',\n",
       " 'первую',\n",
       " 'пьесу',\n",
       " '—',\n",
       " '«',\n",
       " 'Безотцовщина',\n",
       " '»',\n",
       " 'и',\n",
       " 'водевиль',\n",
       " '«',\n",
       " 'Недаром',\n",
       " 'курица',\n",
       " 'пела',\n",
       " '»',\n",
       " '.',\n",
       " 'В',\n",
       " '1879',\n",
       " 'году',\n",
       " 'Чехов',\n",
       " 'окончил',\n",
       " 'гимназию',\n",
       " 'и',\n",
       " 'уехал',\n",
       " 'из',\n",
       " 'Таганрога',\n",
       " 'в',\n",
       " 'Москву',\n",
       " '.',\n",
       " 'Там',\n",
       " 'он',\n",
       " 'начал',\n",
       " 'заботиться',\n",
       " 'о',\n",
       " 'семье',\n",
       " ',',\n",
       " 'обеспечивал',\n",
       " 'близких',\n",
       " 'на',\n",
       " 'скромный',\n",
       " 'доход',\n",
       " 'от',\n",
       " 'литературных',\n",
       " 'публикаций',\n",
       " '.',\n",
       " 'Дебют',\n",
       " 'Чехова',\n",
       " 'в',\n",
       " 'печати',\n",
       " 'состоялся',\n",
       " 'в',\n",
       " 'декабре',\n",
       " 'того',\n",
       " 'же',\n",
       " 'года',\n",
       " ':',\n",
       " 'в',\n",
       " 'журнале',\n",
       " '«',\n",
       " 'Стрекоза',\n",
       " '»',\n",
       " 'были',\n",
       " 'опубликованы',\n",
       " 'рассказ',\n",
       " '«',\n",
       " 'Письмо',\n",
       " 'к',\n",
       " 'ученому',\n",
       " 'соседу',\n",
       " '»',\n",
       " 'и',\n",
       " 'юмореска',\n",
       " '«',\n",
       " 'Что',\n",
       " 'чаще',\n",
       " 'всего',\n",
       " 'встречается',\n",
       " 'в',\n",
       " 'романах',\n",
       " ',',\n",
       " 'повестях',\n",
       " 'и',\n",
       " 'т',\n",
       " '.',\n",
       " 'п',\n",
       " '.',\n",
       " '»',\n",
       " '.',\n",
       " 'В',\n",
       " 'этом',\n",
       " 'же',\n",
       " 'году',\n",
       " 'Чехов',\n",
       " 'поступил',\n",
       " 'на',\n",
       " 'медицинский',\n",
       " 'факультет',\n",
       " 'Московского',\n",
       " 'университета',\n",
       " 'имени',\n",
       " 'И',\n",
       " '.',\n",
       " 'М',\n",
       " '.',\n",
       " 'Сеченова',\n",
       " '.',\n",
       " 'Студент-медик',\n",
       " 'жил',\n",
       " 'у',\n",
       " 'брата',\n",
       " 'Ивана',\n",
       " 'в',\n",
       " 'подмосковном',\n",
       " 'Воскресенске',\n",
       " '(',\n",
       " 'сегодня',\n",
       " 'город',\n",
       " 'Истра',\n",
       " ')',\n",
       " '.',\n",
       " 'Там',\n",
       " 'же',\n",
       " 'в',\n",
       " '1881',\n",
       " 'году',\n",
       " 'он',\n",
       " 'познакомился',\n",
       " 'с',\n",
       " 'заведующим',\n",
       " 'Воскресенской',\n",
       " 'земской',\n",
       " 'больницей',\n",
       " ',',\n",
       " 'доктором',\n",
       " 'Павлом',\n",
       " 'Архангельским',\n",
       " '.',\n",
       " 'Еще',\n",
       " 'во',\n",
       " 'время',\n",
       " 'учебы',\n",
       " 'Чехов',\n",
       " 'принимал',\n",
       " 'больных',\n",
       " ',',\n",
       " 'здесь',\n",
       " 'же',\n",
       " 'прошел',\n",
       " 'практику',\n",
       " ',',\n",
       " 'а',\n",
       " 'после',\n",
       " 'окончания',\n",
       " 'университета',\n",
       " 'остался',\n",
       " 'работать',\n",
       " 'уездным',\n",
       " 'врачом',\n",
       " '.',\n",
       " 'Летом',\n",
       " '1884',\n",
       " 'года',\n",
       " 'он',\n",
       " 'перешел',\n",
       " 'на',\n",
       " 'должность',\n",
       " 'заведующего',\n",
       " 'звенигородской',\n",
       " 'больницей',\n",
       " '.']"
      ]
     },
     "execution_count": 3,
     "metadata": {},
     "output_type": "execute_result"
    }
   ],
   "source": [
    "[_.text for _ in n_tok_text]"
   ]
  },
  {
   "cell_type": "code",
   "execution_count": 4,
   "metadata": {
    "colab": {
     "base_uri": "https://localhost:8080/"
    },
    "executionInfo": {
     "elapsed": 541,
     "status": "ok",
     "timestamp": 1621696459335,
     "user": {
      "displayName": "zhibo zhang",
      "photoUrl": "https://lh3.googleusercontent.com/a-/AOh14Gh8_y4pfqR32K5ts_cWnnNmRU9hz13PqIdespQy=s64",
      "userId": "09431813280733956316"
     },
     "user_tz": -180
    },
    "id": "yCszVgbto9Aa",
    "outputId": "36de138a-21ce-4b52-db1a-eac561c85cca",
    "pycharm": {
     "name": "#%%\n"
    }
   },
   "outputs": [
    {
     "data": {
      "text/plain": [
       "[Substring(0,\n",
       "           65,\n",
       "           'В 1876 году Чехов-старший разорился, и вся семья уехала в Москву.'),\n",
       " Substring(66,\n",
       "           196,\n",
       "           'Шестнадцатилетний Антон, завершавший обучение в гимназии, остался один и занимался репетиторством, чтобы заработать себе на жизнь.'),\n",
       " Substring(197,\n",
       "           355,\n",
       "           'В эти годы он много читал, писал очерки для гимназических журналов, а журнал «Заика» с короткими зарисовками из таганрогской жизни отправлял братьям в Москву.'),\n",
       " Substring(356,\n",
       "           507,\n",
       "           'Тогда же Чехов написал первую пьесу — «Безотцовщина» и водевиль «Недаром курица пела».В 1879 году Чехов окончил гимназию и уехал из Таганрога в Москву.'),\n",
       " Substring(508,\n",
       "           606,\n",
       "           'Там он начал заботиться о семье, обеспечивал близких на скромный доход от литературных публикаций.'),\n",
       " Substring(607,\n",
       "           904,\n",
       "           'Дебют Чехова в печати состоялся в декабре того же года: в журнале «Стрекоза» были опубликованы рассказ «Письмо к ученому соседу» и юмореска «Что чаще всего встречается в романах, повестях и т. п.».В этом же году Чехов поступил на медицинский факультет Московского университета имени И.М. Сеченова.'),\n",
       " Substring(905,\n",
       "           987,\n",
       "           'Студент-медик жил у брата Ивана в подмосковном Воскресенске (сегодня город Истра).'),\n",
       " Substring(988,\n",
       "           1099,\n",
       "           'Там же в 1881 году он познакомился с заведующим Воскресенской земской больницей, доктором Павлом Архангельским.'),\n",
       " Substring(1100,\n",
       "           1232,\n",
       "           'Еще во время учебы Чехов принимал больных, здесь же прошел практику, а после окончания университета остался работать уездным врачом.'),\n",
       " Substring(1233,\n",
       "           1310,\n",
       "           'Летом 1884 года он перешел на должность заведующего звенигородской больницей.')]"
      ]
     },
     "execution_count": 4,
     "metadata": {},
     "output_type": "execute_result"
    }
   ],
   "source": [
    "n_sen_text = list(sentenize(text))\n",
    "n_sen_text"
   ]
  },
  {
   "cell_type": "code",
   "execution_count": 5,
   "metadata": {
    "colab": {
     "base_uri": "https://localhost:8080/"
    },
    "executionInfo": {
     "elapsed": 442,
     "status": "ok",
     "timestamp": 1621696471895,
     "user": {
      "displayName": "zhibo zhang",
      "photoUrl": "https://lh3.googleusercontent.com/a-/AOh14Gh8_y4pfqR32K5ts_cWnnNmRU9hz13PqIdespQy=s64",
      "userId": "09431813280733956316"
     },
     "user_tz": -180
    },
    "id": "_OdJFqRMpC20",
    "outputId": "8e08cab2-2406-4a7a-afff-69a98de535b1",
    "pycharm": {
     "name": "#%%\n"
    }
   },
   "outputs": [
    {
     "data": {
      "text/plain": [
       "(['В 1876 году Чехов-старший разорился, и вся семья уехала в Москву.',\n",
       "  'Шестнадцатилетний Антон, завершавший обучение в гимназии, остался один и занимался репетиторством, чтобы заработать себе на жизнь.',\n",
       "  'В эти годы он много читал, писал очерки для гимназических журналов, а журнал «Заика» с короткими зарисовками из таганрогской жизни отправлял братьям в Москву.',\n",
       "  'Тогда же Чехов написал первую пьесу — «Безотцовщина» и водевиль «Недаром курица пела».В 1879 году Чехов окончил гимназию и уехал из Таганрога в Москву.',\n",
       "  'Там он начал заботиться о семье, обеспечивал близких на скромный доход от литературных публикаций.',\n",
       "  'Дебют Чехова в печати состоялся в декабре того же года: в журнале «Стрекоза» были опубликованы рассказ «Письмо к ученому соседу» и юмореска «Что чаще всего встречается в романах, повестях и т. п.».В этом же году Чехов поступил на медицинский факультет Московского университета имени И.М. Сеченова.',\n",
       "  'Студент-медик жил у брата Ивана в подмосковном Воскресенске (сегодня город Истра).',\n",
       "  'Там же в 1881 году он познакомился с заведующим Воскресенской земской больницей, доктором Павлом Архангельским.',\n",
       "  'Еще во время учебы Чехов принимал больных, здесь же прошел практику, а после окончания университета остался работать уездным врачом.',\n",
       "  'Летом 1884 года он перешел на должность заведующего звенигородской больницей.'],\n",
       " 10)"
      ]
     },
     "execution_count": 5,
     "metadata": {},
     "output_type": "execute_result"
    }
   ],
   "source": [
    "[_.text for _ in n_sen_text], len([_.text for _ in n_sen_text])"
   ]
  },
  {
   "cell_type": "code",
   "execution_count": 6,
   "metadata": {
    "executionInfo": {
     "elapsed": 564,
     "status": "ok",
     "timestamp": 1621696492624,
     "user": {
      "displayName": "zhibo zhang",
      "photoUrl": "https://lh3.googleusercontent.com/a-/AOh14Gh8_y4pfqR32K5ts_cWnnNmRU9hz13PqIdespQy=s64",
      "userId": "09431813280733956316"
     },
     "user_tz": -180
    },
    "id": "07pJGzjGpF83",
    "pycharm": {
     "name": "#%%\n"
    }
   },
   "outputs": [],
   "source": [
    "def n_sentenize(text):\n",
    "    n_sen_chunk = []\n",
    "    for sent in sentenize(text):\n",
    "        tokens = [_.text for _ in tokenize(sent.text)]\n",
    "        n_sen_chunk.append(tokens)\n",
    "    return n_sen_chunk"
   ]
  },
  {
   "cell_type": "code",
   "execution_count": 7,
   "metadata": {
    "colab": {
     "base_uri": "https://localhost:8080/"
    },
    "executionInfo": {
     "elapsed": 573,
     "status": "ok",
     "timestamp": 1621696509144,
     "user": {
      "displayName": "zhibo zhang",
      "photoUrl": "https://lh3.googleusercontent.com/a-/AOh14Gh8_y4pfqR32K5ts_cWnnNmRU9hz13PqIdespQy=s64",
      "userId": "09431813280733956316"
     },
     "user_tz": -180
    },
    "id": "wBcLq6PepK8-",
    "outputId": "5c3388ba-512e-453d-e5ce-26c05200bb98",
    "pycharm": {
     "name": "#%%\n"
    }
   },
   "outputs": [
    {
     "data": {
      "text/plain": [
       "[['В',\n",
       "  '1876',\n",
       "  'году',\n",
       "  'Чехов-старший',\n",
       "  'разорился',\n",
       "  ',',\n",
       "  'и',\n",
       "  'вся',\n",
       "  'семья',\n",
       "  'уехала',\n",
       "  'в',\n",
       "  'Москву',\n",
       "  '.'],\n",
       " ['Шестнадцатилетний',\n",
       "  'Антон',\n",
       "  ',',\n",
       "  'завершавший',\n",
       "  'обучение',\n",
       "  'в',\n",
       "  'гимназии',\n",
       "  ',',\n",
       "  'остался',\n",
       "  'один',\n",
       "  'и',\n",
       "  'занимался',\n",
       "  'репетиторством',\n",
       "  ',',\n",
       "  'чтобы',\n",
       "  'заработать',\n",
       "  'себе',\n",
       "  'на',\n",
       "  'жизнь',\n",
       "  '.'],\n",
       " ['В',\n",
       "  'эти',\n",
       "  'годы',\n",
       "  'он',\n",
       "  'много',\n",
       "  'читал',\n",
       "  ',',\n",
       "  'писал',\n",
       "  'очерки',\n",
       "  'для',\n",
       "  'гимназических',\n",
       "  'журналов',\n",
       "  ',',\n",
       "  'а',\n",
       "  'журнал',\n",
       "  '«',\n",
       "  'Заика',\n",
       "  '»',\n",
       "  'с',\n",
       "  'короткими',\n",
       "  'зарисовками',\n",
       "  'из',\n",
       "  'таганрогской',\n",
       "  'жизни',\n",
       "  'отправлял',\n",
       "  'братьям',\n",
       "  'в',\n",
       "  'Москву',\n",
       "  '.'],\n",
       " ['Тогда',\n",
       "  'же',\n",
       "  'Чехов',\n",
       "  'написал',\n",
       "  'первую',\n",
       "  'пьесу',\n",
       "  '—',\n",
       "  '«',\n",
       "  'Безотцовщина',\n",
       "  '»',\n",
       "  'и',\n",
       "  'водевиль',\n",
       "  '«',\n",
       "  'Недаром',\n",
       "  'курица',\n",
       "  'пела',\n",
       "  '»',\n",
       "  '.',\n",
       "  'В',\n",
       "  '1879',\n",
       "  'году',\n",
       "  'Чехов',\n",
       "  'окончил',\n",
       "  'гимназию',\n",
       "  'и',\n",
       "  'уехал',\n",
       "  'из',\n",
       "  'Таганрога',\n",
       "  'в',\n",
       "  'Москву',\n",
       "  '.'],\n",
       " ['Там',\n",
       "  'он',\n",
       "  'начал',\n",
       "  'заботиться',\n",
       "  'о',\n",
       "  'семье',\n",
       "  ',',\n",
       "  'обеспечивал',\n",
       "  'близких',\n",
       "  'на',\n",
       "  'скромный',\n",
       "  'доход',\n",
       "  'от',\n",
       "  'литературных',\n",
       "  'публикаций',\n",
       "  '.'],\n",
       " ['Дебют',\n",
       "  'Чехова',\n",
       "  'в',\n",
       "  'печати',\n",
       "  'состоялся',\n",
       "  'в',\n",
       "  'декабре',\n",
       "  'того',\n",
       "  'же',\n",
       "  'года',\n",
       "  ':',\n",
       "  'в',\n",
       "  'журнале',\n",
       "  '«',\n",
       "  'Стрекоза',\n",
       "  '»',\n",
       "  'были',\n",
       "  'опубликованы',\n",
       "  'рассказ',\n",
       "  '«',\n",
       "  'Письмо',\n",
       "  'к',\n",
       "  'ученому',\n",
       "  'соседу',\n",
       "  '»',\n",
       "  'и',\n",
       "  'юмореска',\n",
       "  '«',\n",
       "  'Что',\n",
       "  'чаще',\n",
       "  'всего',\n",
       "  'встречается',\n",
       "  'в',\n",
       "  'романах',\n",
       "  ',',\n",
       "  'повестях',\n",
       "  'и',\n",
       "  'т',\n",
       "  '.',\n",
       "  'п',\n",
       "  '.',\n",
       "  '»',\n",
       "  '.',\n",
       "  'В',\n",
       "  'этом',\n",
       "  'же',\n",
       "  'году',\n",
       "  'Чехов',\n",
       "  'поступил',\n",
       "  'на',\n",
       "  'медицинский',\n",
       "  'факультет',\n",
       "  'Московского',\n",
       "  'университета',\n",
       "  'имени',\n",
       "  'И',\n",
       "  '.',\n",
       "  'М',\n",
       "  '.',\n",
       "  'Сеченова',\n",
       "  '.'],\n",
       " ['Студент-медик',\n",
       "  'жил',\n",
       "  'у',\n",
       "  'брата',\n",
       "  'Ивана',\n",
       "  'в',\n",
       "  'подмосковном',\n",
       "  'Воскресенске',\n",
       "  '(',\n",
       "  'сегодня',\n",
       "  'город',\n",
       "  'Истра',\n",
       "  ')',\n",
       "  '.'],\n",
       " ['Там',\n",
       "  'же',\n",
       "  'в',\n",
       "  '1881',\n",
       "  'году',\n",
       "  'он',\n",
       "  'познакомился',\n",
       "  'с',\n",
       "  'заведующим',\n",
       "  'Воскресенской',\n",
       "  'земской',\n",
       "  'больницей',\n",
       "  ',',\n",
       "  'доктором',\n",
       "  'Павлом',\n",
       "  'Архангельским',\n",
       "  '.'],\n",
       " ['Еще',\n",
       "  'во',\n",
       "  'время',\n",
       "  'учебы',\n",
       "  'Чехов',\n",
       "  'принимал',\n",
       "  'больных',\n",
       "  ',',\n",
       "  'здесь',\n",
       "  'же',\n",
       "  'прошел',\n",
       "  'практику',\n",
       "  ',',\n",
       "  'а',\n",
       "  'после',\n",
       "  'окончания',\n",
       "  'университета',\n",
       "  'остался',\n",
       "  'работать',\n",
       "  'уездным',\n",
       "  'врачом',\n",
       "  '.'],\n",
       " ['Летом',\n",
       "  '1884',\n",
       "  'года',\n",
       "  'он',\n",
       "  'перешел',\n",
       "  'на',\n",
       "  'должность',\n",
       "  'заведующего',\n",
       "  'звенигородской',\n",
       "  'больницей',\n",
       "  '.']]"
      ]
     },
     "execution_count": 7,
     "metadata": {},
     "output_type": "execute_result"
    }
   ],
   "source": [
    "n_sen_chunk = n_sentenize(text)\n",
    "n_sen_chunk"
   ]
  },
  {
   "cell_type": "markdown",
   "metadata": {
    "id": "aaBbLL6bpPAj",
    "pycharm": {
     "name": "#%% md\n"
    }
   },
   "source": [
    "# Частеречная разметка"
   ]
  },
  {
   "cell_type": "code",
   "execution_count": 13,
   "metadata": {
    "colab": {
     "base_uri": "https://localhost:8080/"
    },
    "executionInfo": {
     "elapsed": 6399,
     "status": "ok",
     "timestamp": 1621697092856,
     "user": {
      "displayName": "zhibo zhang",
      "photoUrl": "https://lh3.googleusercontent.com/a-/AOh14Gh8_y4pfqR32K5ts_cWnnNmRU9hz13PqIdespQy=s64",
      "userId": "09431813280733956316"
     },
     "user_tz": -180
    },
    "id": "iPbT-e2lpWzX",
    "outputId": "d830022c-79e4-40e0-acee-4617e0c8d4cb",
    "pycharm": {
     "name": "#%%\n"
    }
   },
   "outputs": [
    {
     "name": "stdout",
     "output_type": "stream",
     "text": [
      "Requirement already satisfied: navec in /usr/local/lib/python3.7/dist-packages (0.10.0)\n",
      "Requirement already satisfied: numpy in /usr/local/lib/python3.7/dist-packages (from navec) (1.19.5)\n",
      "Collecting slovnet\n",
      "\u001b[?25l  Downloading https://files.pythonhosted.org/packages/a9/3b/f1ef495be8990004959dd0510c95f688d1b07529f6a862bc56a405770b26/slovnet-0.5.0-py3-none-any.whl (49kB)\n",
      "\u001b[K     |████████████████████████████████| 51kB 1.6MB/s \n",
      "\u001b[?25hRequirement already satisfied: navec in /usr/local/lib/python3.7/dist-packages (from slovnet) (0.10.0)\n",
      "Requirement already satisfied: razdel in /usr/local/lib/python3.7/dist-packages (from slovnet) (0.5.0)\n",
      "Requirement already satisfied: numpy in /usr/local/lib/python3.7/dist-packages (from slovnet) (1.19.5)\n",
      "Installing collected packages: slovnet\n",
      "Successfully installed slovnet-0.5.0\n"
     ]
    }
   ],
   "source": [
    "!pip install navec\n",
    "!pip install slovnet\n",
    "from navec import Navec\n",
    "from slovnet import Morph"
   ]
  },
  {
   "cell_type": "code",
   "execution_count": 21,
   "metadata": {
    "colab": {
     "base_uri": "https://localhost:8080/"
    },
    "executionInfo": {
     "elapsed": 684,
     "status": "ok",
     "timestamp": 1621697502243,
     "user": {
      "displayName": "zhibo zhang",
      "photoUrl": "https://lh3.googleusercontent.com/a-/AOh14Gh8_y4pfqR32K5ts_cWnnNmRU9hz13PqIdespQy=s64",
      "userId": "09431813280733956316"
     },
     "user_tz": -180
    },
    "id": "tRYDg9F8sNRu",
    "outputId": "0829cd5a-eb11-4943-ef4e-51c4ce259913",
    "pycharm": {
     "name": "#%%\n"
    }
   },
   "outputs": [
    {
     "name": "stdout",
     "output_type": "stream",
     "text": [
      "/content/drive/MyDrive\n"
     ]
    }
   ],
   "source": [
    "%cd /content/drive/MyDrive"
   ]
  },
  {
   "cell_type": "code",
   "execution_count": 22,
   "metadata": {
    "executionInfo": {
     "elapsed": 3947,
     "status": "ok",
     "timestamp": 1621697567781,
     "user": {
      "displayName": "zhibo zhang",
      "photoUrl": "https://lh3.googleusercontent.com/a-/AOh14Gh8_y4pfqR32K5ts_cWnnNmRU9hz13PqIdespQy=s64",
      "userId": "09431813280733956316"
     },
     "user_tz": -180
    },
    "id": "aS3r42ixrRId",
    "pycharm": {
     "name": "#%%\n"
    }
   },
   "outputs": [],
   "source": [
    "navec = Navec.load('navec_news_v1_1B_250K_300d_100q.tar')"
   ]
  },
  {
   "cell_type": "code",
   "execution_count": 23,
   "metadata": {
    "executionInfo": {
     "elapsed": 2239,
     "status": "ok",
     "timestamp": 1621697583009,
     "user": {
      "displayName": "zhibo zhang",
      "photoUrl": "https://lh3.googleusercontent.com/a-/AOh14Gh8_y4pfqR32K5ts_cWnnNmRU9hz13PqIdespQy=s64",
      "userId": "09431813280733956316"
     },
     "user_tz": -180
    },
    "id": "A4PbusBfrijT",
    "pycharm": {
     "name": "#%%\n"
    }
   },
   "outputs": [],
   "source": [
    "n_morph = Morph.load('slovnet_morph_news_v1.tar', batch_size=4)"
   ]
  },
  {
   "cell_type": "code",
   "execution_count": 24,
   "metadata": {
    "executionInfo": {
     "elapsed": 871,
     "status": "ok",
     "timestamp": 1621697588069,
     "user": {
      "displayName": "zhibo zhang",
      "photoUrl": "https://lh3.googleusercontent.com/a-/AOh14Gh8_y4pfqR32K5ts_cWnnNmRU9hz13PqIdespQy=s64",
      "userId": "09431813280733956316"
     },
     "user_tz": -180
    },
    "id": "cj3WzhCItUyA",
    "pycharm": {
     "name": "#%%\n"
    }
   },
   "outputs": [],
   "source": [
    "morph_res = n_morph.navec(navec)"
   ]
  },
  {
   "cell_type": "code",
   "execution_count": 25,
   "metadata": {
    "executionInfo": {
     "elapsed": 685,
     "status": "ok",
     "timestamp": 1621697594635,
     "user": {
      "displayName": "zhibo zhang",
      "photoUrl": "https://lh3.googleusercontent.com/a-/AOh14Gh8_y4pfqR32K5ts_cWnnNmRU9hz13PqIdespQy=s64",
      "userId": "09431813280733956316"
     },
     "user_tz": -180
    },
    "id": "gl3s1qXLtWWZ",
    "pycharm": {
     "name": "#%%\n"
    }
   },
   "outputs": [],
   "source": [
    "def print_pos(markup):\n",
    "    for token in markup.tokens:\n",
    "        print('{} - {}'.format(token.text, token.tag))"
   ]
  },
  {
   "cell_type": "code",
   "execution_count": 28,
   "metadata": {
    "colab": {
     "base_uri": "https://localhost:8080/"
    },
    "executionInfo": {
     "elapsed": 803,
     "status": "ok",
     "timestamp": 1621697645119,
     "user": {
      "displayName": "zhibo zhang",
      "photoUrl": "https://lh3.googleusercontent.com/a-/AOh14Gh8_y4pfqR32K5ts_cWnnNmRU9hz13PqIdespQy=s64",
      "userId": "09431813280733956316"
     },
     "user_tz": -180
    },
    "id": "NizftATktX_3",
    "outputId": "b982833c-df17-4c62-c449-a89a1eb60c7c",
    "pycharm": {
     "name": "#%%\n"
    }
   },
   "outputs": [
    {
     "name": "stdout",
     "output_type": "stream",
     "text": [
      "Сикорский - PROPN|Animacy=Anim|Case=Nom|Gender=Masc|Number=Sing\n",
      "родился - VERB|Aspect=Perf|Gender=Masc|Mood=Ind|Number=Sing|Tense=Past|VerbForm=Fin|Voice=Mid\n",
      "7 - ADJ\n",
      "июня - NOUN|Animacy=Inan|Case=Gen|Gender=Masc|Number=Sing\n",
      "1889 - ADJ\n",
      "года - NOUN|Animacy=Inan|Case=Gen|Gender=Masc|Number=Sing\n",
      ". - PUNCT\n",
      "Он - PRON|Case=Nom|Gender=Masc|Number=Sing|Person=3\n",
      "поступил - VERB|Aspect=Perf|Gender=Masc|Mood=Ind|Number=Sing|Tense=Past|VerbForm=Fin|Voice=Act\n",
      "в - ADP\n",
      "Киевский - ADJ|Animacy=Inan|Case=Acc|Degree=Pos|Gender=Masc|Number=Sing\n",
      "политехнический - ADJ|Animacy=Inan|Case=Acc|Degree=Pos|Gender=Masc|Number=Sing\n",
      "институт - NOUN|Animacy=Inan|Case=Acc|Gender=Masc|Number=Sing\n",
      "в - ADP\n",
      "1907 - ADJ\n",
      "году - NOUN|Animacy=Inan|Case=Loc|Gender=Masc|Number=Sing\n",
      ". - PUNCT\n",
      "В - ADP\n",
      "1909-1912 - ADJ\n",
      "годах - NOUN|Animacy=Inan|Case=Loc|Gender=Masc|Number=Plur\n",
      "студент - NOUN|Animacy=Anim|Case=Nom|Gender=Masc|Number=Sing\n",
      "Сикорский - PROPN|Animacy=Anim|Case=Nom|Gender=Masc|Number=Sing\n",
      "спроектировал - VERB|Aspect=Perf|Gender=Masc|Mood=Ind|Number=Sing|Tense=Past|VerbForm=Fin|Voice=Act\n",
      "и - CCONJ\n",
      "построил - VERB|Aspect=Perf|Gender=Masc|Mood=Ind|Number=Sing|Tense=Past|VerbForm=Fin|Voice=Act\n",
      "два - NUM|Animacy=Inan|Case=Acc|Gender=Masc\n",
      "вертолёта - NOUN|Animacy=Inan|Case=Gen|Gender=Masc|Number=Sing\n"
     ]
    },
    {
     "data": {
      "text/plain": [
       "[None, None, None]"
      ]
     },
     "execution_count": 28,
     "metadata": {
      "tags": []
     },
     "output_type": "execute_result"
    }
   ],
   "source": [
    "n_text_markup = list(_ for _ in n_morph.map(n_sen_chunk))\n",
    "[print_pos(x) for x in n_text_markup]"
   ]
  },
  {
   "cell_type": "markdown",
   "metadata": {
    "id": "kY1Hea48tn9W",
    "pycharm": {
     "name": "#%% md\n"
    }
   },
   "source": [
    "# Лемматизация"
   ]
  },
  {
   "cell_type": "code",
   "execution_count": 31,
   "metadata": {
    "colab": {
     "base_uri": "https://localhost:8080/"
    },
    "executionInfo": {
     "elapsed": 11044,
     "status": "ok",
     "timestamp": 1621697716876,
     "user": {
      "displayName": "zhibo zhang",
      "photoUrl": "https://lh3.googleusercontent.com/a-/AOh14Gh8_y4pfqR32K5ts_cWnnNmRU9hz13PqIdespQy=s64",
      "userId": "09431813280733956316"
     },
     "user_tz": -180
    },
    "id": "9mAFTVlatty-",
    "outputId": "fb315b28-04d3-4e4f-f1b1-d81048ad78ba",
    "pycharm": {
     "name": "#%%\n"
    }
   },
   "outputs": [
    {
     "name": "stdout",
     "output_type": "stream",
     "text": [
      "Collecting natasha\n",
      "\u001b[?25l  Downloading https://files.pythonhosted.org/packages/51/8e/ab0745100be276750fb6b8858c6180a1756696572295a74eb5aea77f3bbd/natasha-1.4.0-py3-none-any.whl (34.4MB)\n",
      "\u001b[K     |████████████████████████████████| 34.4MB 1.5MB/s \n",
      "\u001b[?25hRequirement already satisfied: razdel>=0.5.0 in /usr/local/lib/python3.7/dist-packages (from natasha) (0.5.0)\n",
      "Collecting yargy>=0.14.0\n",
      "\u001b[?25l  Downloading https://files.pythonhosted.org/packages/d3/46/bc1a17200a55f4b0608f39ac64f1840fd4a52f9eeea462d9afecbf71246b/yargy-0.15.0-py3-none-any.whl (41kB)\n",
      "\u001b[K     |████████████████████████████████| 51kB 5.5MB/s \n",
      "\u001b[?25hCollecting pymorphy2\n",
      "\u001b[?25l  Downloading https://files.pythonhosted.org/packages/07/57/b2ff2fae3376d4f3c697b9886b64a54b476e1a332c67eee9f88e7f1ae8c9/pymorphy2-0.9.1-py3-none-any.whl (55kB)\n",
      "\u001b[K     |████████████████████████████████| 61kB 7.0MB/s \n",
      "\u001b[?25hCollecting ipymarkup>=0.8.0\n",
      "  Downloading https://files.pythonhosted.org/packages/bf/9b/bf54c98d50735a4a7c84c71e92c5361730c878ebfe903d2c2d196ef66055/ipymarkup-0.9.0-py3-none-any.whl\n",
      "Requirement already satisfied: slovnet>=0.3.0 in /usr/local/lib/python3.7/dist-packages (from natasha) (0.5.0)\n",
      "Requirement already satisfied: navec>=0.9.0 in /usr/local/lib/python3.7/dist-packages (from natasha) (0.10.0)\n",
      "Collecting dawg-python>=0.7.1\n",
      "  Downloading https://files.pythonhosted.org/packages/6a/84/ff1ce2071d4c650ec85745766c0047ccc3b5036f1d03559fd46bb38b5eeb/DAWG_Python-0.7.2-py2.py3-none-any.whl\n",
      "Collecting pymorphy2-dicts-ru<3.0,>=2.4\n",
      "\u001b[?25l  Downloading https://files.pythonhosted.org/packages/3a/79/bea0021eeb7eeefde22ef9e96badf174068a2dd20264b9a378f2be1cdd9e/pymorphy2_dicts_ru-2.4.417127.4579844-py2.py3-none-any.whl (8.2MB)\n",
      "\u001b[K     |████████████████████████████████| 8.2MB 16.1MB/s \n",
      "\u001b[?25hRequirement already satisfied: docopt>=0.6 in /usr/local/lib/python3.7/dist-packages (from pymorphy2->natasha) (0.6.2)\n",
      "Collecting intervaltree>=3\n",
      "  Downloading https://files.pythonhosted.org/packages/50/fb/396d568039d21344639db96d940d40eb62befe704ef849b27949ded5c3bb/intervaltree-3.1.0.tar.gz\n",
      "Requirement already satisfied: numpy in /usr/local/lib/python3.7/dist-packages (from slovnet>=0.3.0->natasha) (1.19.5)\n",
      "Requirement already satisfied: sortedcontainers<3.0,>=2.0 in /usr/local/lib/python3.7/dist-packages (from intervaltree>=3->ipymarkup>=0.8.0->natasha) (2.3.0)\n",
      "Building wheels for collected packages: intervaltree\n",
      "  Building wheel for intervaltree (setup.py) ... \u001b[?25l\u001b[?25hdone\n",
      "  Created wheel for intervaltree: filename=intervaltree-3.1.0-py2.py3-none-any.whl size=26102 sha256=2ebf2fe745648b6116032daa362816912c6b841ba054efbe4a3337d47855acaa\n",
      "  Stored in directory: /root/.cache/pip/wheels/f3/f2/66/e9c30d3e9499e65ea2fa0d07c002e64de63bd0adaa49c445bf\n",
      "Successfully built intervaltree\n",
      "Installing collected packages: dawg-python, pymorphy2-dicts-ru, pymorphy2, yargy, intervaltree, ipymarkup, natasha\n",
      "  Found existing installation: intervaltree 2.1.0\n",
      "    Uninstalling intervaltree-2.1.0:\n",
      "      Successfully uninstalled intervaltree-2.1.0\n",
      "Successfully installed dawg-python-0.7.2 intervaltree-3.1.0 ipymarkup-0.9.0 natasha-1.4.0 pymorphy2-0.9.1 pymorphy2-dicts-ru-2.4.417127.4579844 yargy-0.15.0\n"
     ]
    }
   ],
   "source": [
    "!pip install natasha\n",
    "from natasha import Doc, Segmenter, NewsEmbedding, NewsMorphTagger, MorphVocab"
   ]
  },
  {
   "cell_type": "code",
   "execution_count": 32,
   "metadata": {
    "executionInfo": {
     "elapsed": 400,
     "status": "ok",
     "timestamp": 1621697740644,
     "user": {
      "displayName": "zhibo zhang",
      "photoUrl": "https://lh3.googleusercontent.com/a-/AOh14Gh8_y4pfqR32K5ts_cWnnNmRU9hz13PqIdespQy=s64",
      "userId": "09431813280733956316"
     },
     "user_tz": -180
    },
    "id": "hypgUvvDtvph",
    "pycharm": {
     "name": "#%%\n"
    }
   },
   "outputs": [],
   "source": [
    "def n_lemmatize(text):\n",
    "    emb = NewsEmbedding()\n",
    "    morph_tagger = NewsMorphTagger(emb)\n",
    "    segmenter = Segmenter()\n",
    "    morph_vocab = MorphVocab()\n",
    "    doc = Doc(text)\n",
    "    doc.segment(segmenter)\n",
    "    doc.tag_morph(morph_tagger)\n",
    "    for token in doc.tokens:\n",
    "        token.lemmatize(morph_vocab)\n",
    "    return doc"
   ]
  },
  {
   "cell_type": "code",
   "execution_count": 35,
   "metadata": {
    "colab": {
     "base_uri": "https://localhost:8080/"
    },
    "executionInfo": {
     "elapsed": 5642,
     "status": "ok",
     "timestamp": 1621697780319,
     "user": {
      "displayName": "zhibo zhang",
      "photoUrl": "https://lh3.googleusercontent.com/a-/AOh14Gh8_y4pfqR32K5ts_cWnnNmRU9hz13PqIdespQy=s64",
      "userId": "09431813280733956316"
     },
     "user_tz": -180
    },
    "id": "JVwpO7kOt7uy",
    "outputId": "c0800581-0b1a-4c4f-ed19-2e039e708649",
    "pycharm": {
     "name": "#%%\n"
    }
   },
   "outputs": [
    {
     "data": {
      "text/plain": [
       "{'.': '.',\n",
       " '1889': '1889',\n",
       " '1907': '1907',\n",
       " '1909-1912': '1909-1912',\n",
       " '7': '7',\n",
       " 'В': 'в',\n",
       " 'Киевский': 'киевский',\n",
       " 'Он': 'он',\n",
       " 'Сикорский': 'сикорский',\n",
       " 'в': 'в',\n",
       " 'вертолёта': 'вертолет',\n",
       " 'года': 'год',\n",
       " 'годах': 'год',\n",
       " 'году': 'год',\n",
       " 'два': 'два',\n",
       " 'и': 'и',\n",
       " 'институт': 'институт',\n",
       " 'июня': 'июнь',\n",
       " 'политехнический': 'политехнический',\n",
       " 'построил': 'построить',\n",
       " 'поступил': 'поступить',\n",
       " 'родился': 'родиться',\n",
       " 'спроектировал': 'спроектировать',\n",
       " 'студент': 'студент'}"
      ]
     },
     "execution_count": 35,
     "metadata": {
      "tags": []
     },
     "output_type": "execute_result"
    }
   ],
   "source": [
    "n_doc = n_lemmatize(text)\n",
    "{_.text: _.lemma for _ in n_doc.tokens}"
   ]
  },
  {
   "cell_type": "markdown",
   "metadata": {
    "id": "TO2OHj8bt9Zn",
    "pycharm": {
     "name": "#%% md\n"
    }
   },
   "source": [
    "# Выделение (распознавание) именованных сущностей, named-entity recognition (NER)"
   ]
  },
  {
   "cell_type": "code",
   "execution_count": 36,
   "metadata": {
    "executionInfo": {
     "elapsed": 516,
     "status": "ok",
     "timestamp": 1621697808915,
     "user": {
      "displayName": "zhibo zhang",
      "photoUrl": "https://lh3.googleusercontent.com/a-/AOh14Gh8_y4pfqR32K5ts_cWnnNmRU9hz13PqIdespQy=s64",
      "userId": "09431813280733956316"
     },
     "user_tz": -180
    },
    "id": "gkVp-KbiuJlS",
    "pycharm": {
     "name": "#%%\n"
    }
   },
   "outputs": [],
   "source": [
    "from slovnet import NER\n",
    "from ipymarkup import show_span_ascii_markup as show_markup"
   ]
  },
  {
   "cell_type": "code",
   "execution_count": 38,
   "metadata": {
    "executionInfo": {
     "elapsed": 2397,
     "status": "ok",
     "timestamp": 1621697875230,
     "user": {
      "displayName": "zhibo zhang",
      "photoUrl": "https://lh3.googleusercontent.com/a-/AOh14Gh8_y4pfqR32K5ts_cWnnNmRU9hz13PqIdespQy=s64",
      "userId": "09431813280733956316"
     },
     "user_tz": -180
    },
    "id": "5kROJ2R_uMTH",
    "pycharm": {
     "name": "#%%\n"
    }
   },
   "outputs": [],
   "source": [
    "ner = NER.load('slovnet_ner_news_v1.tar')"
   ]
  },
  {
   "cell_type": "code",
   "execution_count": 39,
   "metadata": {
    "executionInfo": {
     "elapsed": 397,
     "status": "ok",
     "timestamp": 1621697898693,
     "user": {
      "displayName": "zhibo zhang",
      "photoUrl": "https://lh3.googleusercontent.com/a-/AOh14Gh8_y4pfqR32K5ts_cWnnNmRU9hz13PqIdespQy=s64",
      "userId": "09431813280733956316"
     },
     "user_tz": -180
    },
    "id": "qJlUHAFkuOcP",
    "pycharm": {
     "name": "#%%\n"
    }
   },
   "outputs": [],
   "source": [
    "ner_res = ner.navec(navec)"
   ]
  },
  {
   "cell_type": "code",
   "execution_count": 41,
   "metadata": {
    "colab": {
     "base_uri": "https://localhost:8080/"
    },
    "executionInfo": {
     "elapsed": 450,
     "status": "ok",
     "timestamp": 1621697922918,
     "user": {
      "displayName": "zhibo zhang",
      "photoUrl": "https://lh3.googleusercontent.com/a-/AOh14Gh8_y4pfqR32K5ts_cWnnNmRU9hz13PqIdespQy=s64",
      "userId": "09431813280733956316"
     },
     "user_tz": -180
    },
    "id": "x9yFaoeLuiUS",
    "outputId": "bce93ec4-d252-41d7-d695-0e4e209229ec",
    "pycharm": {
     "name": "#%%\n"
    }
   },
   "outputs": [
    {
     "data": {
      "text/plain": [
       "SpanMarkup(\n",
       "    text='Сикорский родился 7 июня 1889 года. Он поступил в Киевский политехнический институт в 1907 году. В 1909-1912 годах студент Сикорский спроектировал и построил два вертолёта',\n",
       "    spans=[Span(\n",
       "         start=50,\n",
       "         stop=83,\n",
       "         type='ORG'\n",
       "     ), Span(\n",
       "         start=123,\n",
       "         stop=132,\n",
       "         type='PER'\n",
       "     )]\n",
       ")"
      ]
     },
     "execution_count": 41,
     "metadata": {
      "tags": []
     },
     "output_type": "execute_result"
    }
   ],
   "source": [
    "markup_ner = ner(text)\n",
    "markup_ner"
   ]
  },
  {
   "cell_type": "code",
   "execution_count": 42,
   "metadata": {
    "colab": {
     "base_uri": "https://localhost:8080/"
    },
    "executionInfo": {
     "elapsed": 443,
     "status": "ok",
     "timestamp": 1621697939517,
     "user": {
      "displayName": "zhibo zhang",
      "photoUrl": "https://lh3.googleusercontent.com/a-/AOh14Gh8_y4pfqR32K5ts_cWnnNmRU9hz13PqIdespQy=s64",
      "userId": "09431813280733956316"
     },
     "user_tz": -180
    },
    "id": "POrQOHTZupeM",
    "outputId": "2b5265b5-cad4-4306-bf85-d5281b768636",
    "pycharm": {
     "name": "#%%\n"
    }
   },
   "outputs": [
    {
     "name": "stdout",
     "output_type": "stream",
     "text": [
      "Сикорский родился 7 июня 1889 года. Он поступил в Киевский \n",
      "                                                  ORG──────\n",
      "политехнический институт в 1907 году. В 1909-1912 годах студент \n",
      "────────────────────────                                        \n",
      "Сикорский спроектировал и построил два вертолёта\n",
      "PER──────                                       \n"
     ]
    }
   ],
   "source": [
    "show_markup(markup_ner.text, markup_ner.spans)"
   ]
  },
  {
   "cell_type": "markdown",
   "metadata": {
    "id": "chwgbimwusQP",
    "pycharm": {
     "name": "#%% md\n"
    }
   },
   "source": [
    "# Разбор предложения"
   ]
  },
  {
   "cell_type": "code",
   "execution_count": 43,
   "metadata": {
    "executionInfo": {
     "elapsed": 749,
     "status": "ok",
     "timestamp": 1621697970883,
     "user": {
      "displayName": "zhibo zhang",
      "photoUrl": "https://lh3.googleusercontent.com/a-/AOh14Gh8_y4pfqR32K5ts_cWnnNmRU9hz13PqIdespQy=s64",
      "userId": "09431813280733956316"
     },
     "user_tz": -180
    },
    "id": "FX9YFh13ux9E",
    "pycharm": {
     "name": "#%%\n"
    }
   },
   "outputs": [],
   "source": [
    "from natasha import NewsSyntaxParser"
   ]
  },
  {
   "cell_type": "code",
   "execution_count": 44,
   "metadata": {
    "executionInfo": {
     "elapsed": 1123,
     "status": "ok",
     "timestamp": 1621697978517,
     "user": {
      "displayName": "zhibo zhang",
      "photoUrl": "https://lh3.googleusercontent.com/a-/AOh14Gh8_y4pfqR32K5ts_cWnnNmRU9hz13PqIdespQy=s64",
      "userId": "09431813280733956316"
     },
     "user_tz": -180
    },
    "id": "nGDynLkguz1M",
    "pycharm": {
     "name": "#%%\n"
    }
   },
   "outputs": [],
   "source": [
    "emb = NewsEmbedding()\n",
    "syntax_parser = NewsSyntaxParser(emb)"
   ]
  },
  {
   "cell_type": "code",
   "execution_count": 45,
   "metadata": {
    "colab": {
     "base_uri": "https://localhost:8080/"
    },
    "executionInfo": {
     "elapsed": 525,
     "status": "ok",
     "timestamp": 1621697993312,
     "user": {
      "displayName": "zhibo zhang",
      "photoUrl": "https://lh3.googleusercontent.com/a-/AOh14Gh8_y4pfqR32K5ts_cWnnNmRU9hz13PqIdespQy=s64",
      "userId": "09431813280733956316"
     },
     "user_tz": -180
    },
    "id": "3Ce9m5nHu1jK",
    "outputId": "e7081dba-75bd-44bf-e4e9-f4b250727763",
    "pycharm": {
     "name": "#%%\n"
    }
   },
   "outputs": [
    {
     "name": "stdout",
     "output_type": "stream",
     "text": [
      "      ┌► Сикорский nsubj\n",
      "┌───┌─└─ родился   \n",
      "│ ┌─└►┌─ 7         obl\n",
      "│ │   └► июня      flat\n",
      "│ │   ┌► 1889      amod\n",
      "│ └──►└─ года      nmod\n",
      "└──────► .         punct\n"
     ]
    }
   ],
   "source": [
    "n_doc.parse_syntax(syntax_parser)\n",
    "n_doc.sents[0].syntax.print()"
   ]
  },
  {
   "cell_type": "code",
   "execution_count": 46,
   "metadata": {
    "colab": {
     "base_uri": "https://localhost:8080/"
    },
    "executionInfo": {
     "elapsed": 423,
     "status": "ok",
     "timestamp": 1621698009911,
     "user": {
      "displayName": "zhibo zhang",
      "photoUrl": "https://lh3.googleusercontent.com/a-/AOh14Gh8_y4pfqR32K5ts_cWnnNmRU9hz13PqIdespQy=s64",
      "userId": "09431813280733956316"
     },
     "user_tz": -180
    },
    "id": "pUoVyyiYu5XU",
    "outputId": "5516b822-d345-40a8-ce48-a6e624bda0c3",
    "pycharm": {
     "name": "#%%\n"
    }
   },
   "outputs": [
    {
     "name": "stdout",
     "output_type": "stream",
     "text": [
      "          ┌► Он              nsubj\n",
      "┌─┌─┌─────└─ поступил        \n",
      "│ │ │ ┌────► в               case\n",
      "│ │ │ │ ┌──► Киевский        amod\n",
      "│ │ │ │ │ ┌► политехнический amod\n",
      "│ │ └►└─└─└─ институт        obl\n",
      "│ │     ┌──► в               case\n",
      "│ │     │ ┌► 1907            amod\n",
      "│ └────►└─└─ году            obl\n",
      "└──────────► .               punct\n"
     ]
    }
   ],
   "source": [
    "n_doc.sents[1].syntax.print()"
   ]
  },
  {
   "cell_type": "code",
   "execution_count": 47,
   "metadata": {
    "colab": {
     "base_uri": "https://localhost:8080/"
    },
    "executionInfo": {
     "elapsed": 442,
     "status": "ok",
     "timestamp": 1621698019353,
     "user": {
      "displayName": "zhibo zhang",
      "photoUrl": "https://lh3.googleusercontent.com/a-/AOh14Gh8_y4pfqR32K5ts_cWnnNmRU9hz13PqIdespQy=s64",
      "userId": "09431813280733956316"
     },
     "user_tz": -180
    },
    "id": "yyF2czRNu9dO",
    "outputId": "4d9c99b7-c291-4979-beee-5c6183a233fa",
    "pycharm": {
     "name": "#%%\n"
    }
   },
   "outputs": [
    {
     "name": "stdout",
     "output_type": "stream",
     "text": [
      "    ┌──► В             case\n",
      "    │ ┌► 1909-1912     amod\n",
      "  ┌►└─└─ годах         obl\n",
      "  │ ┌──► студент       nsubj\n",
      "  │ │ ┌► Сикорский     nsubj\n",
      "  └─└─└─ спроектировал \n",
      "  │   ┌► и             cc\n",
      "┌─└──►└─ построил      conj\n",
      "│     ┌► два           nummod:gov\n",
      "└────►└─ вертолёта     obj\n"
     ]
    }
   ],
   "source": [
    "n_doc.sents[2].syntax.print()"
   ]
  },
  {
   "cell_type": "code",
   "execution_count": null,
   "metadata": {
    "id": "tYhQXipVu_ns",
    "pycharm": {
     "name": "#%%\n"
    }
   },
   "outputs": [],
   "source": []
  }
 ],
 "metadata": {
  "colab": {
   "authorship_tag": "ABX9TyPF6Kqk6/Rf1omqAU6gimZB",
   "collapsed_sections": [],
   "mount_file_id": "1NeGALBwOONDoL8KqA8FAw21pvPSZmn3A",
   "name": "Лаб5.ipynb",
   "provenance": []
  },
  "kernelspec": {
   "display_name": "Python 3 (ipykernel)",
   "language": "python",
   "name": "python3"
  },
  "language_info": {
   "codemirror_mode": {
    "name": "ipython",
    "version": 3
   },
   "file_extension": ".py",
   "mimetype": "text/x-python",
   "name": "python",
   "nbconvert_exporter": "python",
   "pygments_lexer": "ipython3",
   "version": "3.9.7"
  }
 },
 "nbformat": 4,
 "nbformat_minor": 1
}
